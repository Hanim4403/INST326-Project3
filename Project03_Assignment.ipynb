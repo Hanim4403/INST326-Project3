{
 "cells": [
  {
   "cell_type": "markdown",
   "id": "cddf5de3-a9f3-4471-bbaf-aca41a70ce89",
   "metadata": {},
   "source": [
    "### INST326 OOP Project 03"
   ]
  },
  {
   "cell_type": "markdown",
   "id": "2bb7f115-9eba-4f29-918e-b016e6a7edc8",
   "metadata": {},
   "source": [
    "Rename this notebook, replacing \"_Assignment\" with \"_YourName\"<br>\n",
    "Insert Signature Block Here"
   ]
  },
  {
   "cell_type": "markdown",
   "id": "8ee05bdb-db2d-41c2-9f23-3af75d058612",
   "metadata": {},
   "source": [
    "### The Project\n",
    "Everyone will do the same project this time. This is a group project, so you must work in your assigned groups. Include the link to your group's GitHub repository (one link per group). Use comments in your code to document your solution. If you need to write comments to the grader, add a markdown cell immediately above your code solution and add your comments there. Be sure to read and follow all the requirements and the Notebook Instructions at the bottom of this notebook. Your grade may depend on it!"
   ]
  },
  {
   "cell_type": "markdown",
   "id": "a1c98e85-2c64-4a03-8309-d91035cca6d2",
   "metadata": {},
   "source": [
    "#### 1. A Scheduling Program\r",
    ">  My wife is responsible for scheduling caregivers for her 93 year-old mother. Currently she writes out the schedule on a monthly calendar and photocopies it for everyone. I want all of you to help me write a program to help her with scheduling. While this is a specific application, this program will be broadly useful and adaptable to any scheduling needs for small businesses, clubs, and more."
   ]
  },
  {
   "cell_type": "markdown",
   "id": "28b28d8a-dbb3-4f15-bbe0-e14504b84876",
   "metadata": {},
   "source": [
    "#### Requirements\n",
    ">  Care is required 12 hours per day, 7 days a week. There are two shifts each day: 7:00 AM - 1:00 PM, and 1:00 PM to 7:00 PM. There are a total of 8 caregivers. Some are family members and some are paid. Each caregiver has their own availability for shifts that is generally the same from month to month, but there are exceptions for work, vacations, and other responsibilities. Your program should do the following:\n",
    "> 1. Manage caregivers and their schedules. Attributes include: name, phone, email, pay rate, and hours.\n",
    "> 2. Each caregiver should have their own availability schedule where they can indicate their availability for each shift. Availability categories are 'preferred', 'available' (default), and 'unavailable'.\n",
    "> 3. Create a care schedule that covers AM and PM shifts and displays caregiver names on a calendar (see example). The schedule should accomodate caregivers' individual schedules and availability preferences. The python calendar module provides options for creating HTML calendars. Sample code for the HTML calendar is in the project folder.\n",
    "> 4. Paid caregivers are paid weekly at $20/hr. Your program should calculate weekly pay based on assigned hours. Provide a separate pay report that lists weekly (gross: hours x rate) amounts to each caregiver, along with weekly and monthly totals. The report can be a text document, or presented in GUI or HTML format. "
   ]
  },
  {
   "cell_type": "markdown",
   "id": "6708f6cf-aac7-430e-947d-6f9c8dd161f6",
   "metadata": {
    "jp-MarkdownHeadingCollapsed": true
   },
   "source": [
    "#### Group Requirements\n",
    ">  1. Your submitted project should follow OOP principles like abstraction, encapsulation, inheritance, and polymorphism as appropriate. Your program should use classes. \n",
    ">  2. Select a group leader who will host the group's project repository on their GitHub.\n",
    ">  3. Create the group repository and add a main program document. See example.\n",
    ">  4. Create branches off the main program for each group member, and assign part of the program to each member.\n",
    ">  5. Each member should work on their branch.\n",
    ">  6. When each member is finished, merge the branches back into the main program. You may use 'merge' or 'pull requests', your choice.\n",
    ">  7. iterate and debug as necessary."
   ]
  },
  {
   "cell_type": "markdown",
   "id": "71b8f18e-607a-4c94-81a3-ebbc488ba8c6",
   "metadata": {},
   "source": [
    "#### Working with HTML\n",
    "> Since this is a course on python, not HTML, you are not expected to know HTML. Therefore, you may copy applicable portions of the sample code or use AI to write the HTML portions of your application. Ypu should write the main python code yourself.\n"
   ]
  },
  {
   "cell_type": "markdown",
   "id": "fc336368-4292-42af-aa60-06b27ff6b303",
   "metadata": {
    "jp-MarkdownHeadingCollapsed": true
   },
   "source": [
    "#### What you need to turn in\n",
    ">  This is a group project. There will be one submission per group. Your submission will be graded as a group.\n",
    ">  1. Include your group number and the names of all group members in the signature block at the top of this notebook.\n",
    ">  2. In the cell below, paste the link to your project repository. One link per group. The grader will review the activity and history provided by GitHub. To add a hyperlink to a Jupyter markdown cell, follow the instructions in the cell below.\n",
    ">  3. Below the GitHub Repository Link cell is a code cell. Copy and paste your final program code into this cell."
   ]
  },
  {
   "cell_type": "markdown",
   "id": "3ece03e6-a41f-484d-8417-d8c4e156b2c0",
   "metadata": {},
   "source": [
    "#### GitHub Repository Link\n",
    "> Example: [INST326_Fall2024/Projects/Project03](https://github.com/sdempwolf/INST326_Fall_2024/tree/main/Projects/Project03)\n",
    ">\n",
    "> Edit the link code below with your information, then run this cell. Test the link! It should take you to your GitHub project repository.\n",
    "> [external link text](http://url_here)"
   ]
  },
  {
   "cell_type": "code",
   "execution_count": 23,
   "id": "cb35b908-6683-4144-816c-051715925504",
   "metadata": {},
   "outputs": [
    {
     "name": "stdout",
     "output_type": "stream",
     "text": [
      "Weekly Pay Report:\n",
      "Ria: 45 hours, $900.00\n",
      "Hani: 40 hours, $800.00\n",
      "\n",
      "Total Pay for All Caregivers: $1700.00\n"
     ]
    }
   ],
   "source": [
    "# Solution - enter your code solution below\n",
    "from enum import Enum\n",
    "from typing import List\n",
    "\n",
    "#define the availability Enum\n",
    "class Availability(Enum):\n",
    "    AVAILABLE = \"Available\"\n",
    "    PREFERRED = \"Preferred\"\n",
    "    UNAVAILABLE = \"Unavailable\"\n",
    "\n",
    "class Caregiver:\n",
    "#class representing a caregiver\n",
    "\n",
    "    def __init__(self,name: str, phone: str, email: str, pay_rate: float):\n",
    "#caregivers name\n",
    "        self.name = name \n",
    "#caregivers phone number\n",
    "        self.phone = phone\n",
    "#caregivers email\n",
    "        self.email = email \n",
    "#hourly wage \n",
    "        self.pay_rate = pay_rate\n",
    "        self.hours = 0\n",
    "#will check separately \n",
    "        self.weekly_hours = 0\n",
    "        self.availability = {\n",
    "            'monday': {'am': Availability.AVAILABLE, 'pm': Availability.AVAILABLE},\n",
    "            'tuesday': {'am': Availability.AVAILABLE, 'pm': Availability.AVAILABLE},\n",
    "            'wednesday': {'am': Availability.AVAILABLE, 'pm': Availability.AVAILABLE},\n",
    "            'thursday': {'am': Availability.AVAILABLE, 'pm': Availability.AVAILABLE},\n",
    "            'friday': {'am': Availability.AVAILABLE, 'pm': Availability.AVAILABLE},\n",
    "            'saturday': {'am': Availability.AVAILABLE, 'pm': Availability.AVAILABLE},\n",
    "            'sunday': {'am': Availability.AVAILABLE, 'pm': Availability.AVAILABLE},\n",
    "        }\n",
    "    def set_availability(self, day: str, shift: str, status: Availability):\n",
    "#availability is set for specific shift#\n",
    "        day = day.lower()\n",
    "        shift = shift.lower()\n",
    "        if day not in self.availability:\n",
    "            raise ValueError(f\"Unavailable day: {day}\")\n",
    "        if shift not in ['am', 'pm']: \n",
    "            raise ValueError(f\"Invalid shift:{shift}\")\n",
    "        if not isinstance(status, Availability):\n",
    "            raise ValueError(f\"Unavailable day status:{status}\")\n",
    "        self.availability[day][shift] = status\n",
    "\n",
    "    def add_hours(self, hours: float):\n",
    "#worked hours in total\n",
    "        self.hours += hours\n",
    "#track hours for pay\n",
    "        self.weekly_hours += hours\n",
    "\n",
    "    def calculate_weekly_pay(self) -> float:\n",
    "#calculate pay based on hours and wage\n",
    "        return self.weekly_hours * self.pay_rate\n",
    "\n",
    "    def reset_weekly_hours(self):\n",
    "#reset hours for upcoming week\n",
    "        self.weekly_hours = 0\n",
    "    def __str__(self):\n",
    "        return f\"Caregiver:{self.name}\\nContact: {self.phone}, {self.email}\\nPayRate: ${self.pay_rate}/hr\"\n",
    "\n",
    "class CaregiverManager:\n",
    "#class to manage many caregivers \n",
    "    def __init__(self):\n",
    "        self.caregivers: List[Caregiver] = []\n",
    "    def add_caregiver(self, caregiver: Caregiver):\n",
    "#to add a new caregiver \n",
    "        self.caregivers.append(caregiver)\n",
    "    def remove_caregiver(self, caregiver_name: str):\n",
    "#remove caregiver \n",
    "        self.caregivers = [cg for cg in self.caregivers if cg.name != caregiver_name]\n",
    "    def get_available_caregivers(self, day: str, shift: str) -> List[Caregiver]:\n",
    "#list of caregivers availability for specific day\n",
    "        return [cg for cg in self.caregivers\n",
    "                if cg.get_availability(day, shift) in [Availability.AVAILABLE, Availability.PREFERRED]]\n",
    "\n",
    "    def generate_pay_report(self) -> str:\n",
    "#weekly pay report for all caregivers\n",
    "        total_weekly_pay = 0  \n",
    "\n",
    "        report_lines = [\"Weekly Pay Report:\"]\n",
    "        for caregiver in self.caregivers:\n",
    "            weekly_pay = caregiver.calculate_weekly_pay()\n",
    "            total_weekly_pay += weekly_pay\n",
    "            report_lines.append(f\"{caregiver.name}: {caregiver.weekly_hours} hours, ${weekly_pay:.2f}\")\n",
    "\n",
    "        report_lines.append(f\"\\nTotal Pay for All Caregivers: ${total_weekly_pay:.2f}\")\n",
    "        return \"\\n\".join(report_lines)\n",
    "\n",
    "#example usage:\n",
    "if __name__ == \"__main__\":\n",
    "#create caregivers\n",
    "    caregiver1 = Caregiver(\"Ria\", \"123-456-7890\", \"ria@example.com\", 20)\n",
    "    caregiver2 = Caregiver(\"Hani\", \"987-654-3210\", \"hani@example.com\", 20)\n",
    "\n",
    "#create CaregiverManager and add caregivers\n",
    "    manager = CaregiverManager()\n",
    "    manager.add_caregiver(caregiver1)\n",
    "    manager.add_caregiver(caregiver2)\n",
    "\n",
    "#giving shifts and giving hours (madeup)\n",
    "    caregiver1.add_hours(45)  \n",
    "    caregiver2.add_hours(40)  \n",
    "\n",
    "#weekly pay report\n",
    "    pay_report = manager.generate_pay_report()\n",
    "    print(pay_report)\n"
   ]
  },
  {
   "cell_type": "markdown",
   "id": "ec8ddd19-87cd-475d-a07f-7dc8983dc636",
   "metadata": {},
   "source": [
    "### Notebook Instructions\n",
    "> Before turning in your notebook:\n",
    "> 1. Make sure you have renamed the notebook file as instructed\n",
    "> 2. Make sure you have included your signature block and that it is correct according to the instructions\n",
    "> 3. comment your code as necessary\n",
    "> 4. run all code cells and double check that they run correctly. If you can't get your code to run correctly and you want partial credit, add a note for the grader in a new markdown cell directly above your code solution.<br><br>\n",
    "Turn in your notebook by uploading it to ELMS<br>\n",
    "IF the exercises involve saved data files, put your notebook and the data file(s) in a zip folder and upload the zip folder to ELMS"
   ]
  },
  {
   "cell_type": "code",
   "execution_count": null,
   "id": "c2f96be2-9bc0-46ea-98fb-51d8c07c7de8",
   "metadata": {},
   "outputs": [],
   "source": []
  }
 ],
 "metadata": {
  "kernelspec": {
   "display_name": "anaconda-panel-2023.05-py310",
   "language": "python",
   "name": "conda-env-anaconda-panel-2023.05-py310-py"
  },
  "language_info": {
   "codemirror_mode": {
    "name": "ipython",
    "version": 3
   },
   "file_extension": ".py",
   "mimetype": "text/x-python",
   "name": "python",
   "nbconvert_exporter": "python",
   "pygments_lexer": "ipython3",
   "version": "3.11.5"
  }
 },
 "nbformat": 4,
 "nbformat_minor": 5
}
