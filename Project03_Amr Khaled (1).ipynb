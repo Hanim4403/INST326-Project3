{
 "cells": [
  {
   "cell_type": "markdown",
   "id": "cddf5de3-a9f3-4471-bbaf-aca41a70ce89",
   "metadata": {},
   "source": [
    "### INST326 OOP Project 03"
   ]
  },
  {
   "cell_type": "markdown",
   "id": "2bb7f115-9eba-4f29-918e-b016e6a7edc8",
   "metadata": {},
   "source": [
    "Rename this notebook, replacing \"_Assignment\" with \"_YourName\"<br>\n",
    "Insert Signature Block Here"
   ]
  },
  {
   "cell_type": "code",
   "execution_count": 26,
   "id": "e81fdac8-a1c6-4078-be5d-bc83343fb97c",
   "metadata": {},
   "outputs": [
    {
     "ename": "SyntaxError",
     "evalue": "leading zeros in decimal integer literals are not permitted; use an 0o prefix for octal integers (2508937579.py, line 3)",
     "output_type": "error",
     "traceback": [
      "\u001b[0;36m  Cell \u001b[0;32mIn[26], line 3\u001b[0;36m\u001b[0m\n\u001b[0;31m    > INST326 Section 0202\u001b[0m\n\u001b[0m                      ^\u001b[0m\n\u001b[0;31mSyntaxError\u001b[0m\u001b[0;31m:\u001b[0m leading zeros in decimal integer literals are not permitted; use an 0o prefix for octal integers\n"
     ]
    }
   ],
   "source": [
    "### Your Name: Amr Khaled\n",
    "\n",
    "> INST326 Section 0202\n",
    ">  \n",
    "> Group number / name if applicable  \n",
    "> Assignment:\n",
    ">  \n",
    "> Date Due:\n",
    ">  \n",
    "> PIN: \n",
    "#### Honor Pledge\n",
    "\n",
    "> I pledge that the work contained in this assignment is my own...\n",
    "> \n",
    "#### Disclosures\n",
    "\n",
    "> None."
   ]
  },
  {
   "cell_type": "markdown",
   "id": "8ee05bdb-db2d-41c2-9f23-3af75d058612",
   "metadata": {},
   "source": [
    "### The Project\n",
    "Everyone will do the same project this time. This is a group project, so you must work in your assigned groups. Include the link to your group's GitHub repository (one link per group). Use comments in your code to document your solution. If you need to write comments to the grader, add a markdown cell immediately above your code solution and add your comments there. Be sure to read and follow all the requirements and the Notebook Instructions at the bottom of this notebook. Your grade may depend on it!"
   ]
  },
  {
   "cell_type": "markdown",
   "id": "a1c98e85-2c64-4a03-8309-d91035cca6d2",
   "metadata": {},
   "source": [
    "#### 1. A Scheduling Program\r",
    ">  My wife is responsible for scheduling caregivers for her 93 year-old mother. Currently she writes out the schedule on a monthly calendar and photocopies it for everyone. I want all of you to help me write a program to help her with scheduling. While this is a specific application, this program will be broadly useful and adaptable to any scheduling needs for small businesses, clubs, and more."
   ]
  },
  {
   "cell_type": "markdown",
   "id": "28b28d8a-dbb3-4f15-bbe0-e14504b84876",
   "metadata": {},
   "source": [
    "#### Requirements\n",
    ">  Care is required 12 hours per day, 7 days a week. There are two shifts each day: 7:00 AM - 1:00 PM, and 1:00 PM to 7:00 PM. There are a total of 8 caregivers. Some are family members and some are paid. Each caregiver has their own availability for shifts that is generally the same from month to month, but there are exceptions for work, vacations, and other responsibilities. Your program should do the following:\n",
    "> 1. Manage caregivers and their schedules. Attributes include: name, phone, email, pay rate, and hours.\n",
    "> 2. Each caregiver should have their own availability schedule where they can indicate their availability for each shift. Availability categories are 'preferred', 'available' (default), and 'unavailable'.\n",
    "> 3. Create a care schedule that covers AM and PM shifts and displays caregiver names on a calendar (see example). The schedule should accomodate caregivers' individual schedules and availability preferences. The python calendar module provides options for creating HTML calendars. Sample code for the HTML calendar is in the project folder.\n",
    "> 4. Paid caregivers are paid weekly at $20/hr. Your program should calculate weekly pay based on assigned hours. Provide a separate pay report that lists weekly (gross: hours x rate) amounts to each caregiver, along with weekly and monthly totals. The report can be a text document, or presented in GUI or HTML format. "
   ]
  },
  {
   "cell_type": "markdown",
   "id": "6708f6cf-aac7-430e-947d-6f9c8dd161f6",
   "metadata": {
    "jp-MarkdownHeadingCollapsed": true
   },
   "source": [
    "#### Group Requirements\n",
    ">  1. Your submitted project should follow OOP principles like abstraction, encapsulation, inheritance, and polymorphism as appropriate. Your program should use classes. \n",
    ">  2. Select a group leader who will host the group's project repository on their GitHub.\n",
    ">  3. Create the group repository and add a main program document. See example.\n",
    ">  4. Create branches off the main program for each group member, and assign part of the program to each member.\n",
    ">  5. Each member should work on their branch.\n",
    ">  6. When each member is finished, merge the branches back into the main program. You may use 'merge' or 'pull requests', your choice.\n",
    ">  7. iterate and debug as necessary."
   ]
  },
  {
   "cell_type": "markdown",
   "id": "71b8f18e-607a-4c94-81a3-ebbc488ba8c6",
   "metadata": {},
   "source": [
    "#### Working with HTML\n",
    "> Since this is a course on python, not HTML, you are not expected to know HTML. Therefore, you may copy applicable portions of the sample code or use AI to write the HTML portions of your application. Ypu should write the main python code yourself.\n"
   ]
  },
  {
   "cell_type": "markdown",
   "id": "fc336368-4292-42af-aa60-06b27ff6b303",
   "metadata": {
    "jp-MarkdownHeadingCollapsed": true
   },
   "source": [
    "#### What you need to turn in\n",
    ">  This is a group project. There will be one submission per group. Your submission will be graded as a group.\n",
    ">  1. Include your group number and the names of all group members in the signature block at the top of this notebook.\n",
    ">  2. In the cell below, paste the link to your project repository. One link per group. The grader will review the activity and history provided by GitHub. To add a hyperlink to a Jupyter markdown cell, follow the instructions in the cell below.\n",
    ">  3. Below the GitHub Repository Link cell is a code cell. Copy and paste your final program code into this cell."
   ]
  },
  {
   "cell_type": "markdown",
   "id": "3ece03e6-a41f-484d-8417-d8c4e156b2c0",
   "metadata": {},
   "source": [
    "#### GitHub Repository Link\n",
    "> Example: [INST326_Fall2024/Projects/Project03](https://github.com/sdempwolf/INST326_Fall_2024/tree/main/Projects/Project03)\n",
    ">\n",
    "> Edit the link code below with your information, then run this cell. Test the link! It should take you to your GitHub project repository.\n",
    "> [external link text](http://url_here)"
   ]
  },
  {
   "cell_type": "code",
   "execution_count": 28,
   "id": "cb35b908-6683-4144-816c-051715925504",
   "metadata": {},
   "outputs": [
    {
     "name": "stdout",
     "output_type": "stream",
     "text": [
      "Weekly Pay Report:\n",
      "Ria: 35 hours, $700.00\n",
      "Hani: 40 hours, $1000.00\n",
      "\n",
      "Total Pay for All Caregivers: $1700.00\n"
     ]
    }
   ],
   "source": [
    "from enum import Enum\n",
    "from typing import List\n",
    "from datetime import time\n",
    "\n",
    "# Define the availability Enum\n",
    "class Availability(Enum):\n",
    "    AVAILABLE = \"Available\"\n",
    "    PREFERRED = \"Preferred\"\n",
    "    UNAVAILABLE = \"Unavailable\"\n",
    "\n",
    "# Define a Shift class to encapsulate AM/PM shift details\n",
    "class Shift:\n",
    "    AM_START = time(7, 0)  # Shift start time for AM\n",
    "    AM_END = time(13, 0)   # Shift end time for AM\n",
    "    PM_START = time(13, 0) # Shift start time for PM\n",
    "    PM_END = time(19, 0)   # Shift end time for PM\n",
    "\n",
    "    def __init__(self, is_am: bool):\n",
    "        self.is_am = is_am  # Boolean flag for AM/PM shift\n",
    "        self.start_time = self.AM_START if is_am else self.PM_START\n",
    "        self.end_time = self.AM_END if is_am else self.PM_END\n",
    "\n",
    "    def __str__(self):\n",
    "        shift_name = \"AM\" if self.is_am else \"PM\"\n",
    "        return f\"{shift_name} Shift ({self.start_time.strftime('%I:%M %p')} - {self.end_time.strftime('%I:%M %p')})\"\n",
    "\n",
    "# Caregiver class representing individual caregivers\n",
    "class Caregiver:\n",
    "    def __init__(self, name: str, phone: str, email: str, pay_rate: float):\n",
    "        # Initialize caregiver attributes\n",
    "        self.name = name\n",
    "        self.phone = phone\n",
    "        self.email = email\n",
    "        self.pay_rate = pay_rate\n",
    "        self.hours = 0  # Total hours worked\n",
    "        self.weekly_hours = 0  # Weekly hours worked\n",
    "        self.availability = {\n",
    "            'monday': {'am': Availability.AVAILABLE, 'pm': Availability.AVAILABLE},\n",
    "            'tuesday': {'am': Availability.AVAILABLE, 'pm': Availability.AVAILABLE},\n",
    "            'wednesday': {'am': Availability.AVAILABLE, 'pm': Availability.AVAILABLE},\n",
    "            'thursday': {'am': Availability.AVAILABLE, 'pm': Availability.AVAILABLE},\n",
    "            'friday': {'am': Availability.AVAILABLE, 'pm': Availability.AVAILABLE},\n",
    "            'saturday': {'am': Availability.AVAILABLE, 'pm': Availability.AVAILABLE},\n",
    "            'sunday': {'am': Availability.AVAILABLE, 'pm': Availability.AVAILABLE},\n",
    "        }\n",
    "\n",
    "    # Set availability for a specific day and shift\n",
    "    def set_availability(self, day: str, shift: str, status: Availability):\n",
    "        day = day.lower()\n",
    "        shift = shift.lower()\n",
    "        if day not in self.availability:\n",
    "            raise ValueError(f\"Invalid day: {day}\")\n",
    "        if shift not in ['am', 'pm']:\n",
    "            raise ValueError(f\"Invalid shift: {shift}\")\n",
    "        if not isinstance(status, Availability):\n",
    "            raise ValueError(f\"Invalid availability status: {status}\")\n",
    "        self.availability[day][shift] = status\n",
    "\n",
    "    # Get availability for a specific day and shift\n",
    "    def get_availability(self, day: str, shift: str) -> Availability:\n",
    "        day = day.lower()\n",
    "        shift = shift.lower()\n",
    "        return self.availability[day][shift]\n",
    "\n",
    "    # Add worked hours to the caregiver's total\n",
    "    def add_hours(self, hours: float):\n",
    "        self.hours += hours\n",
    "        self.weekly_hours += hours\n",
    "\n",
    "    # Calculate weekly pay for the caregiver\n",
    "    def calculate_weekly_pay(self) -> float:\n",
    "        return self.weekly_hours * self.pay_rate\n",
    "\n",
    "    # Reset weekly hours for a new week\n",
    "    def reset_weekly_hours(self):\n",
    "        self.weekly_hours = 0\n",
    "\n",
    "    # String representation of caregiver\n",
    "    def __str__(self):\n",
    "        return f\"Caregiver: {self.name}\\nContact: {self.phone}, {self.email}\\nPay Rate: ${self.pay_rate}/hr\"\n",
    "\n",
    "# CaregiverManager class to manage multiple caregivers\n",
    "class CaregiverManager:\n",
    "    def __init__(self):\n",
    "        # Initialize list of caregivers\n",
    "        self.caregivers: List[Caregiver] = []\n",
    "\n",
    "    # Add a caregiver to the manager\n",
    "    def add_caregiver(self, caregiver: Caregiver):\n",
    "        self.caregivers.append(caregiver)\n",
    "\n",
    "    # Remove a caregiver by name\n",
    "    def remove_caregiver(self, caregiver_name: str):\n",
    "        self.caregivers = [cg for cg in self.caregivers if cg.name != caregiver_name]\n",
    "\n",
    "    # Get caregivers available for a specific day and shift\n",
    "    def get_available_caregivers(self, day: str, shift: str) -> List[Caregiver]:\n",
    "        return [cg for cg in self.caregivers\n",
    "                if cg.get_availability(day, shift) in [Availability.AVAILABLE, Availability.PREFERRED]]\n",
    "\n",
    "    # Generate a pay report for all caregivers\n",
    "    def generate_pay_report(self) -> str:\n",
    "        total_weekly_pay = 0\n",
    "        report_lines = [\"Weekly Pay Report:\"]\n",
    "        for caregiver in self.caregivers:\n",
    "            weekly_pay = caregiver.calculate_weekly_pay()\n",
    "            total_weekly_pay += weekly_pay\n",
    "            report_lines.append(f\"{caregiver.name}: {caregiver.weekly_hours} hours, ${weekly_pay:.2f}\")\n",
    "        report_lines.append(f\"\\nTotal Pay for All Caregivers: ${total_weekly_pay:.2f}\")\n",
    "        return \"\\n\".join(report_lines)\n",
    "\n",
    "    # String representation of caregiver manager\n",
    "    def __str__(self):\n",
    "        return f\"CaregiverManager: Managing {len(self.caregivers)} caregivers.\"\n",
    "\n",
    "# Example usage\n",
    "if __name__ == \"__main__\":\n",
    "    # Create caregivers\n",
    "    caregiver1 = Caregiver(\"Ria\", \"123-456-7890\", \"ria@example.com\", 20)\n",
    "    caregiver2 = Caregiver(\"Hani\", \"987-654-3210\", \"hani@example.com\", 25)\n",
    "\n",
    "    # Create CaregiverManager and add caregivers\n",
    "    manager = CaregiverManager()\n",
    "    manager.add_caregiver(caregiver1)\n",
    "    manager.add_caregiver(caregiver2)\n",
    "\n",
    "    # Set availability and assign hours\n",
    "    caregiver1.set_availability(\"monday\", \"am\", Availability.PREFERRED)\n",
    "    caregiver2.set_availability(\"monday\", \"pm\", Availability.AVAILABLE)\n",
    "    caregiver1.add_hours(35)\n",
    "    caregiver2.add_hours(40)\n",
    "\n",
    "    # Generate weekly pay report\n",
    "    pay_report = manager.generate_pay_report()\n",
    "    print(pay_report)\n"
   ]
  },
  {
   "cell_type": "markdown",
   "id": "ec8ddd19-87cd-475d-a07f-7dc8983dc636",
   "metadata": {},
   "source": [
    "### Notebook Instructions\n",
    "> Before turning in your notebook:\n",
    "> 1. Make sure you have renamed the notebook file as instructed\n",
    "> 2. Make sure you have included your signature block and that it is correct according to the instructions\n",
    "> 3. comment your code as necessary\n",
    "> 4. run all code cells and double check that they run correctly. If you can't get your code to run correctly and you want partial credit, add a note for the grader in a new markdown cell directly above your code solution.<br><br>\n",
    "Turn in your notebook by uploading it to ELMS<br>\n",
    "IF the exercises involve saved data files, put your notebook and the data file(s) in a zip folder and upload the zip folder to ELMS"
   ]
  },
  {
   "cell_type": "code",
   "execution_count": null,
   "id": "c2f96be2-9bc0-46ea-98fb-51d8c07c7de8",
   "metadata": {},
   "outputs": [],
   "source": []
  }
 ],
 "metadata": {
  "kernelspec": {
   "display_name": "Python 3 (ipykernel)",
   "language": "python",
   "name": "python3"
  },
  "language_info": {
   "codemirror_mode": {
    "name": "ipython",
    "version": 3
   },
   "file_extension": ".py",
   "mimetype": "text/x-python",
   "name": "python",
   "nbconvert_exporter": "python",
   "pygments_lexer": "ipython3",
   "version": "3.12.4"
  }
 },
 "nbformat": 4,
 "nbformat_minor": 5
}
